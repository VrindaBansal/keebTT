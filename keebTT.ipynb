{
 "cells": [
  {
   "cell_type": "code",
   "execution_count": 57,
   "id": "8420cf7e",
   "metadata": {},
   "outputs": [],
   "source": [
    "#this is a test code for the keyboard typing test search program\n",
    "#possible filters could be spring weight, price\n",
    "#should I eventually add pictures?\n",
    "#could we make it a matching game? (match the switch to the description)\n",
    "#keyboard gpt\n",
    "\n",
    "keyboards = []\n",
    "keycaps = []\n",
    "\n",
    "clk_sw_ls = ['Kailh Box White',\n",
    "            'Kailh Box Black', \n",
    "             'Kailh Box Jade',\n",
    "             'Kailh Box Navy'\n",
    "            ]\n",
    "clk_sw_des = {clk_sw_ls[0] : 'A clicky switch often mistakenly considered tactile due to its pronounced bump and clicky sound. Not ideal for quiet environments.', \n",
    "              clk_sw_ls[1] : 'A clicky switch with a heavy click force** similar to the Navy but with a deeper sound**.', \n",
    "              clk_sw_ls[2] : 'A clicky switch with a lighter click force** compared to the Navy.',\n",
    "              clk_sw_ls[3] : 'A clicky switch with a heavy click force**. Not technically tactile but some users enjoy the pronounced bump before the click**.'\n",
    "             }\n",
    "\n",
    "lin_sw_ls = ['Gateron Cap Milky Yellow Pro', \n",
    "            'Gateron Ink Black V2',\n",
    "             'Kailh Pro Yellow', \n",
    "             'Tealios V2', \n",
    "            ]\n",
    "lin_sw_des = {lin_sw_ls[0] : 'A budget-friendly option offering a balance between tactility and smoothness with a creamier sound profile.', \n",
    "              lin_sw_ls[1] : 'A linear switch included here similar to the Yellow however some users find a slight tactility** depending on the spring weight.', \n",
    "              lin_sw_ls[2] : 'A linear switch however some users find a slight tactility** depending on the spring weight.', \n",
    "              lin_sw_ls[3] : 'A linear switch from Zeal but some users perceive a very slight tactility**. Generally considered very smooth.',\n",
    "             }\n",
    "\n",
    "tact_sw_ls = ['Holy Panda', 'Zealios V2', 'Boba U4T', 'Tecsee Neapolitan/Coffee Chip', 'Cherry MX Brown', 'Glorious Panda','Kailh Box Royal', 'Akko CS Crystal Red', 'Kailh Pro Purple', 'JWK Durock T1', 'Boba U4', 'C3 Tangerine', 'TTC Gold Pink', 'Kailh Box Silent Pink', 'Outemu Silent Forest', 'Kailh Pro Ruby', 'Durock Light (L) Series', 'Durock Shrimp', 'Durock Koala', 'Tecsee Purple Panda', 'Kailh Pro Light Pink', 'Cherry MX Clear']\n",
    "tact_sw_des = {tact_sw_ls[0] : 'A community-created Frankenstein switch combining the stem of Halo (or Polia) with the housing of Zealio. Praised for its pronounced and satisfying tactility with a deep thocky sound.',\n",
    "               tact_sw_ls[1] : 'Known for its smooth and crisp tactility along with a thocky sound profile. Comes in various weights for different typing preferences.', \n",
    "               tact_sw_ls[2] : 'Renowned for its sharp and pronounced tactile bump, thocky sound, and smooth operation.',\n",
    "               tact_sw_ls[3] : 'Relatively new entries gaining popularity for their unique tactile bump feeling and smooth operation.', \n",
    "               tact_sw_ls[4] : 'A classic and widely available tactile switch. Considered a good starting point for those new to tactile switches due to its moderate tactility.',\n",
    "               tact_sw_ls[5] : 'Similar to the Holy Panda but with a slightly smoother tactile bump and deeper sound profile.', \n",
    "               tact_sw_ls[6] : 'A tactile switch with a silent click mechanism** making it quieter than a standard clicky switch but still offering a tactile bump and audible click sound.', \n",
    "               tact_sw_ls[7] : 'A budget-friendly option** known for its smooth operation and lighter tactility**.', \n",
    "               tact_sw_ls[8] : 'A tactile switch** with a sharp and prominent bump**.', \n",
    "               tact_sw_ls[9] : 'Known for its strong and pronounced bump with a crisp sound**.', \n",
    "               tact_sw_ls[10] : 'Similar to the U4T but with a nylon housing** resulting in a different sound profile**.',\n",
    "               tact_sw_ls[11] : 'A tactile switch** known for its smooth operation and medium tactility**.', \n",
    "               tact_sw_ls[12] : 'A budget-friendly option** known for its smooth operation and light to medium tactility**.', \n",
    "               tact_sw_ls[13] : 'A tactile switch with a silent click mechanism** offering a tactile bump with minimal sound**.', \n",
    "               tact_sw_ls[14] : 'A tactile switch with a silent mechanism** for quieter typing**.', \n",
    "               tact_sw_ls[15] : 'A tactile switch** known for its smooth operation and medium tactility**.',\n",
    "               tact_sw_ls[16] : 'Variations of the Durock T1 switch with lighter spring weights** for a faster and easier keypress**.', \n",
    "               tact_sw_ls[17] : 'Another variation of the T1 with a lighter spring weight** and a housing designed for reduced wobble**.', \n",
    "               tact_sw_ls[18] : 'A heavier spring variation of the T1 offering a more pronounced tactility** and thockier sound**.',\n",
    "               tact_sw_ls[19] : 'A tactile switch** known for its smooth operation and medium tactility** with a thockier sound profile** compared to the Holy Panda.',\n",
    "               tact_sw_ls[20] : 'A lighter spring weight** version of the Pro Ruby with a similar smooth and medium tactility profile**.',\n",
    "               tact_sw_ls[21] : 'A tactile switch considered lighter and bumpier** than the MX Brown.'\n",
    "              }\n",
    "               "
   ]
  },
  {
   "cell_type": "code",
   "execution_count": 58,
   "id": "3e4b9c5e",
   "metadata": {},
   "outputs": [
    {
     "name": "stdout",
     "output_type": "stream",
     "text": [
      "Enter switch name here: Boba U4\n",
      "Similar to the U4T but with a nylon housing** resulting in a different sound profile**.\n"
     ]
    }
   ],
   "source": [
    "'''\n",
    "switch_name = input(\"Enter switch name here: \")\n",
    "where = tact_sw_ls.index(switch_name)\n",
    "print(tact_sw_des[tact_sw_ls[where]])\n",
    "'''\n",
    "\n",
    "print(tact_sw_des[tact_sw_ls[tact_sw_ls.index(input(\"Enter switch name here: \"))]])\n"
   ]
  },
  {
   "cell_type": "code",
   "execution_count": null,
   "id": "7b45f147",
   "metadata": {},
   "outputs": [],
   "source": []
  }
 ],
 "metadata": {
  "kernelspec": {
   "display_name": "Python 3 (ipykernel)",
   "language": "python",
   "name": "python3"
  },
  "language_info": {
   "codemirror_mode": {
    "name": "ipython",
    "version": 3
   },
   "file_extension": ".py",
   "mimetype": "text/x-python",
   "name": "python",
   "nbconvert_exporter": "python",
   "pygments_lexer": "ipython3",
   "version": "3.9.12"
  }
 },
 "nbformat": 4,
 "nbformat_minor": 5
}
